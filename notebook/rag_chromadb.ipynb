{
 "cells": [
  {
   "cell_type": "code",
   "execution_count": 2,
   "metadata": {},
   "outputs": [],
   "source": [
    "__import__('pysqlite3')\n",
    "import sys\n",
    "sys.modules['sqlite3'] = sys.modules.pop('pysqlite3')"
   ]
  },
  {
   "cell_type": "code",
   "execution_count": 3,
   "metadata": {},
   "outputs": [],
   "source": [
    "import chromadb\n",
    "from chromadb.config import Settings"
   ]
  },
  {
   "cell_type": "code",
   "execution_count": 4,
   "metadata": {},
   "outputs": [],
   "source": [
    "## Data injention\n",
    "\n",
    "from langchain_community.document_loaders import TextLoader\n",
    "loader = TextLoader(\"data/speech.txt\")\n"
   ]
  },
  {
   "cell_type": "code",
   "execution_count": 5,
   "metadata": {},
   "outputs": [
    {
     "data": {
      "text/plain": [
       "[Document(page_content='The world must be made safe for democracy. Its peace must be planted upon the tested foundations of political liberty. We have no selfish ends to serve. We desire no conquest, no dominion. We seek no indemnities for ourselves, no material compensation for the sacrifices we shall freely make. We are but one of the champions of the rights of mankind. We shall be satisfied when those rights have been made as secure as the faith and the freedom of nations can make them.\\n\\nJust because we fight without rancor and without selfish object, seeking nothing for ourselves but what we shall wish to share with all free peoples, we shall, I feel confident, conduct our operations as belligerents without passion and ourselves observe with proud punctilio the principles of right and of fair play we profess to be fighting for.\\n\\n…\\n\\nIt will be all the easier for us to conduct ourselves as belligerents in a high spirit of right and fairness because we act without animus, not in enmity toward a people or with the desire to bring any injury or disadvantage upon them, but only in armed opposition to an irresponsible government which has thrown aside all considerations of humanity and of right and is running amuck. We are, let me say again, the sincere friends of the German people, and shall desire nothing so much as the early reestablishment of intimate relations of mutual advantage between us—however hard it may be for them, for the time being, to believe that this is spoken from our hearts.\\n\\nWe have borne with their present government through all these bitter months because of that friendship—exercising a patience and forbearance which would otherwise have been impossible. We shall, happily, still have an opportunity to prove that friendship in our daily attitude and actions toward the millions of men and women of German birth and native sympathy who live among us and share our life, and we shall be proud to prove it toward all who are in fact loyal to their neighbors and to the government in the hour of test. They are, most of them, as true and loyal Americans as if they had never known any other fealty or allegiance. They will be prompt to stand with us in rebuking and restraining the few who may be of a different mind and purpose. If there should be disloyalty, it will be dealt with with a firm hand of stern repression; but, if it lifts its head at all, it will lift it only here and there and without countenance except from a lawless and malignant few.\\n\\nIt is a distressing and oppressive duty, gentlemen of the Congress, which I have performed in thus addressing you. There are, it may be, many months of fiery trial and sacrifice ahead of us. It is a fearful thing to lead this great peaceful people into war, into the most terrible and disastrous of all wars, civilization itself seeming to be in the balance. But the right is more precious than peace, and we shall fight for the things which we have always carried nearest our hearts—for democracy, for the right of those who submit to authority to have a voice in their own governments, for the rights and liberties of small nations, for a universal dominion of right by such a concert of free peoples as shall bring peace and safety to all nations and make the world itself at last free.\\n\\nTo such a task we can dedicate our lives and our fortunes, everything that we are and everything that we have, with the pride of those who know that the day has come when America is privileged to spend her blood and her might for the principles that gave her birth and happiness and the peace which she has treasured. God helping her, she can do no other.', metadata={'source': 'data/speech.txt'})]"
      ]
     },
     "execution_count": 5,
     "metadata": {},
     "output_type": "execute_result"
    }
   ],
   "source": [
    "text_document = loader.load()\n",
    "text_document"
   ]
  },
  {
   "cell_type": "code",
   "execution_count": 18,
   "metadata": {},
   "outputs": [],
   "source": []
  },
  {
   "cell_type": "code",
   "execution_count": 7,
   "metadata": {},
   "outputs": [],
   "source": [
    "from langchain.document_loaders import PyPDFLoader\n",
    "\n",
    "loader = PyPDFLoader(\"data/Robinson-Advisory.pdf\")\n",
    "docs = loader.load()"
   ]
  },
  {
   "cell_type": "code",
   "execution_count": 8,
   "metadata": {},
   "outputs": [
    {
     "data": {
      "text/plain": [
       "[Document(page_content='ADVISORY  SERVICES AGREEMENT  \\n \\nThis Advisory Services Agreement is entered into as of June  15th, 2023  (the “ Effective Date ”), by and between \\nCloud Investments Ltd.,  ID 51 -426526 -3, an Israeli company (the \"Company \"), and Mr. Jack Robinson , \\nPassport Number  780055578,  residing at 1 Rabin st, Tel Aviv, Israel, Email: jackrobinson @gmail.com \\n(\"Advisor \"). \\n \\nWhereas , Advisor  has expertise and/or knowledge and/or relationships , which are relevant to the \\nCompany’s business and the Company has asked Advisor  to provide it with certain Advisory \\nservices, as described in this Agreement ; and  \\nWhereas ,  Advisor  has agreed to provide the Company with such services, subject to the terms s et forth \\nin this Agreement.  \\n \\nNOW THEREFORE THE PARTIES AGREE AS FOLLOWS:  \\n \\n1. Services:    \\n1.1 Advisor  shall provide to the Company, as an independent contractor, software development  \\nservices,  and / or any other services as agreed by the parties from time to time  (the “ Services ”). \\nAdvisor  shall not appoint any sub -agents or delegates in connection with performance of the  \\nServices, nor assign any of his  obligations or rights hereunder without obtaining the prior written \\nconsent of the Company.  \\nWithout derogating fr om the foregoing,  the Advisor shall not be required to provide the Services \\nfor a period of eighteen (18) days in each 12 -month period.  \\n1.2 In performing the Services, Advisor shall devote his time, know -how, expertise, talent, experience  \\nand best efforts and attention to the provision of the Services, as shall be reasonably required by \\nthe Company . Advisor  shall render the Services in a diligent manner and at a high professional \\nstandard  for the benefit of the Company and shall perform and dis charge well and faithfully, with \\ndevotion, honesty and fidelity, his obligations hereunder.  \\n1.3 Advisor  further agree s and undertake s to (i) comply with all the Company\\'s policies, procedures \\nand objectives, as in effect from time to time; (ii) adhere to any applicable law or provision, \\npertaining to his services; (iii) not take any action with the intention that the same will cause \\nmaterial damage to the good name of the Company ; (iv) keep the contents of this Agreement \\nconfidential and not to disclose the existence or contents of this Agreement to any third party \\nwithout the prior written consent of the Company . \\n \\n2. Time Tracking:  Advisor  shall  provide the Company with a written report , in a format acceptable by \\nthe Company,  setting forth the number of hours in which he provided the Services , on a daily basis, as \\nwell as an aggregated monthly report at the last day of each calendar month.  \\n3. No Con flicts: Advisor  represents that there is no contractual or other legal restr iction preventing or \\nlimiting him/her  from entering into this Ag reement or performing any of his/her  obligations hereunder.  \\nAdvisor  shall immediately and without delay inform the C ompa ny of any affairs and/or matters that \\nmight constitute a conflict of interest with his/her services  to Company and/or the interests of the \\nCompany.  Advisor  agrees to indemnify, defend  and hold harmless the Company and its directors, \\nofficers and employees against all claims, liabilities, and costs, including reasonable attorneys\\' fees in \\nconnection with any breach by Advisor, of any obligations pursuant to a prior or existing engagemen t \\nwith any other third party, including without limitation other employers or clients.  \\n ', metadata={'source': 'data/Robinson-Advisory.pdf', 'page': 0}),\n",
       " Document(page_content='- 2- \\n \\n4. Term : The term of this Agreement shall commence on the Effective Date and shall continue until \\nterminated in accordance with the provisions herein  (the \"Term \").   \\n \\n5. Term ination : Either party, at any given time, may terminate this Agreement, for any reason \\nwhatsoever, with or without cause, upon fourteen  (14) days’ prior written notice . Notwithstanding the \\nabove, the Company may terminate this Agreement immediately and wit hout prior notice if Advisor  \\nrefuses or is unable to perform the Services, or is in breach of any provision of this Agreement.  \\n \\n6. Compensation:  \\n6.1 As full and sole consideration for the Services, and subject to the performance of the Services, the \\nCompany shall pay the Advisor , against an invoice provided to the Company by Advisor , hourly \\nfees at a rate of USD 9 (nine) per Billable Hour as defined below, limited to a maximum of USD \\n1,500 per month (the \" Fees \"). In addition, the Company shall pay the advisor USD 100 per month \\nto finance a workspace for the Advisor, as long as the Advisor actually hires a professional \\nworkspace (the “ Workspace Expense ”). Advisor will not be entitled to any additional fees or \\nexpense reimbursement whatsoever, except as expressly provided for in this Agreement .  \\nBillable Hour:  Net time devoted to the provisioning of the Services, without calculating meals, \\ntravels or any other overhead time borne by the Advisor.  \\n6.2 The Fees and the Workspace Expense for each month shall be payable by no  later than ten (10) \\ndays from the be ginning  of the following month , against receipt by the Company of a duly issued \\ntax invoice.  \\n6.3 In addition, the Company shall reimburse Advisor  for any reasonable and actual expenses incurred \\nby the  Advisor  in connection with the performance of the Services, all in  accordance with the \\nCompany’s policies as determined by the Board of Directors from time to time , and subject to \\nCompany\\'s prior written consent for each specific expense, before Advisor incurs such expenses . \\nAs a condition to reimbursement, Advisor  shall provide the Company with copies of all invoices, \\nreceipts and other evidence of expenditures as required by Company policy.  \\n6.4 Advisor  shall be solely responsible for any income taxes  or other assessments made or imposed by \\nany governmental authority o n Advisor  with respect to the Services rendered and the compensation \\nreceived hereunder , and any and all expenses and costs of himself, employees, agents and \\nrepresentatives , including, without limitation,  any salary, overtime, severance or social benefits  \\npayable thereto, and marketing costs incurred in connection with the performance of obligations \\nhereunder.  \\n \\n7. Confidentiality , Non -Competition and IP Ownership  Undertaking : In connection with the \\nperformance of Advisor ’s obligations under this Agreement, the Advisor shall execute a \\nConfidentiality , Non -Competition and IP Ownership  Undertaking  in the form attached hereto as \\nExhibit A.  \\n \\n8. Relationship of the Parties; Indemnification : The sole relationship between the Company and the \\nAdvisor shall be that of independent contractors. Advisor shall not be deemed to be, nor treated by the \\nCompany as, an employee of the Company. Advisor shall not receive nor be entitled to overtime pay , \\ninsurance, paid vacation, severance payments or similar fring e or employment benefits from the \\nCompany.  Without derogating from the above, if it is adjudicated or otherwise determined by any \\ngovernmental authority that the Advisor and/ or anyone on Advisor \\'s behalf, is, regardless of the terms \\nof this Agreement, an e mployee of the Company, then payments to Advisor  hereunder shall be reduced \\neffective retroactively as of the beginning of the Term so that 60% of such payments shall constitute \\nsalary payments, and 40% of such payments shall constitute payment by the Comp any for all other ', metadata={'source': 'data/Robinson-Advisory.pdf', 'page': 1}),\n",
       " Document(page_content='- 3- \\n \\nAdvisor statutory rights and benefits as employee of the Company throughout the Term. Advisor  further \\nconsents that the Company may offset any amounts due to him  under this Section from any amounts \\npayable to Advisor  under this Agreement.  Advisor  shall indemnify the Company for any l oss or \\nexpenses incurred by the Company  if it were determined that an alleged employer/employee \\nrelationship existed between the Advisor and the Company.   \\n \\n9. Entire Agreement; No Waiver or Assignment : This Agreement together with the Exhibits, which are \\nattached hereto and incorporated herein, set forth the entire Agreement between the parties and shall \\nsupersede all previous communications and agreements between the parties, either oral or written.  This \\nAgreement may be modified only by a written amendment executed by both parties. This Agreement \\nmay not be assigned, sold, delegated or transferred in any manner by Advisor  for any reason \\nwhatsoever.  The Company may assign the Agreement to a successor of all o r substantially all of its \\nassets or business, provided the assignee  has assumed the Company’s obligations under this Agreement .   \\n \\n10. Governing Law and Jurisdiction :  This Agreement  shall be governed by the laws of the State of \\nIsrael, without giving effect to the rules respecting conflicts of laws . The parties consent to the exclusive \\njurisdiction and venue of Tel Aviv courts for any lawsuit filed arising from or relating to this \\nAgreement.    \\n \\n11. Notices : Notices under this Agreement shall be delivered to the party’s email address as follows: \\nCompany: info@cloudcorp.com , Advisor:  jackrobinson@gmail.com , or in an y the other means with a \\nproof of acceptance by the other party.  \\n \\nIN WITNESS WHEREOF the parties have executed this Agreement as of the date first above written.  \\n \\n \\n \\nCloud Investments Ltd.    Advisor   \\n \\nBy: ________________________   By:________________________  \\nName:  Silvan Joseph     Name:  Jack Robinson    \\nTitle:  CEO       \\n \\n  ', metadata={'source': 'data/Robinson-Advisory.pdf', 'page': 2}),\n",
       " Document(page_content='- 4- \\n \\nConfidentiality, None Compete and IP Ownership Undertaking  \\nAppendix A to Advisory Service Agreement  as of June  15th, 2023  \\n \\nTHIS CONFIDENTIALITY UNDERTAKING (“Undertaking ”) is entered into as of June 15th, 2023 (“ Effective Date ”), by Mr. Jack Robinson,  \\nPassport Number 780055578 , residing at 1 Rabin st , Tel Aviv, Israel, Email: jackrobinson @gmail.com , (“Advisor ”), towards Cloud  Investments \\nLtd (“ Company ”), as follows:  \\n1. Definitions:  (a) Company’s Business:  development of an AI -based contract assistant. (b) Services:  Software development services and/or \\nany other services  provided by the Advisor to the Company. (c) Work Product:  Any product of the Services, tangible and/or intangible, \\nincluding any inventions, discoveries and/or other intellectual property. (d) Confidential Information:  any information disclosed by the \\nCom pany to the Advisor and/or created as a result of the Services (including Work Product), of any type, form (including orally)  or media, \\nincluding (without limitation), code, specifications, architecture, design, data, algorithms, business plans, budget, cu stomers / suppliers lists \\netc.), but excluding information which prior to the disclosure was publicly available or known to the Advisor (both without b reach of any \\nconfidentiality obligation towards the Company).  \\n \\n2. Use:  The Advisor may use the Confidential Information only for the purpose of providing the Services and shall not obtain any rights in it. \\nThe Advisor shall stop using Confidential Information and/or return it to the Company and/or destroy it immediately upon Comp any’s \\nrequest. The Advisor may di sclose Confidential Information in case this is required by law, but only to the extent required and after \\nproviding the Company a prompt written notice and subject to promptly cooperate with the Company in seeking a protective orde r.  \\n \\n3. Safeguard:  The Advi sor shall safeguard the Confidential Information, keep it in strict confidence and shall not disclose it to any third party \\nwithout the prior written consent of the Company.  \\n \\n4. IP: Any Work Product, upon creation, shall be fully and exclusively owned by the Company. The Advisor, immediately upon Company’s \\nrequest, shall sign any document and/or perform any action needed to formalize such ownership. The Advisor shall not obtain a ny rights in \\nthe Work Product, including moral rights and/or rights for royalt ies or other consideration under any applicable law (including Section 134 \\nof the Israeli Patent Law – 1967 if applicable), and shall not be entitled to any compensation with respect to the Services, which was not \\nspecifically agreed, in writing, between t he Advisor and the Company.  \\n \\n5. Non-Compete : During the term of engagement with the Company and for a period of 12 months thereafter, Advisor shall not be involved, \\nas an employee, owner, contractor or otherwise, in any business, which competes with the Compa ny’s Business, and shall not solicit and/or \\nhire any employee and/or service provider of the Company, without the prior written consent of the Company.  \\n \\n6. Personnel:  The Advisor may provide the Services only directly or through employees, contractors or agen ts (“Personnel”), which were \\nspecifically approved by the Company, and have committed in writing to confidentiality and ownership rights towards the Advis or and/or \\nthe Company, in a form restrictive enough to allow Advisor to comply and enforce the commitm ents under this undertaking (“Authorized \\nPersonnel”). Without limiting the foregoing, the Advisor is liable hereunder for any breach of this undertaking by any Adviso r Personnel.  \\n \\n7. Third Parties:  The Advisor represents that the performance of the Services and the terms of this Undertaking, do not and will not breach \\nany right, contractual or other, of any employer, customer or other third party. Advisor acknowledges that the Company is rel ying upon the \\ntruthfulness and accuracy of such representati ons in engaging with the Advisor. Advisor specifically undertakes not to use any proprietary \\nand/or confidential information belonging to the Advisor and/or any third party while performing the Services and in case any  Advisor \\nproprietary or confidential i nformation is used, such information will be automatically assigned to the Company and become its full and \\nexclusive property.  \\n \\n8. Jurisdiction:  This Undertaking shall be governed by and construed in accordance with the laws of the State of Israel, without gi ving effect \\nto its laws pertaining to conflict of laws.   The Advisor agrees that any and all disputes in connection with this Undertaking shall be \\nsubmitted to the exclusive jurisdiction of the competent courts in the city of Tel Aviv -Yafo, Israel.  \\n \\n9. Pre-Undertaking:  In case the Advisor has been providing Services to the Company before the Effective Date (“Pre -Undertaking Period”), \\nthis Undertaking shall also apply to the Pre -Undertaking Period, including, if relevant, before Company’s incorporation. The Com pany may \\nassign this undertaking to third parties.  \\nIN WITNESS WHEREOF , the undersigned has executed this Undertaking as of the Effective Date.  \\nAdvisor   \\nBy: _____________________________________   \\nName: Jack Robinson   \\n \\n \\n ', metadata={'source': 'data/Robinson-Advisory.pdf', 'page': 3})]"
      ]
     },
     "execution_count": 8,
     "metadata": {},
     "output_type": "execute_result"
    }
   ],
   "source": [
    "docs"
   ]
  },
  {
   "cell_type": "code",
   "execution_count": 9,
   "metadata": {},
   "outputs": [
    {
     "data": {
      "text/plain": [
       "[Document(page_content='ADVISORY  SERVICES AGREEMENT  \\n \\nThis Advisory Services Agreement is entered into as of June  15th, 2023  (the “ Effective Date ”), by and between \\nCloud Investments Ltd.,  ID 51 -426526 -3, an Israeli company (the \"Company \"), and Mr. Jack Robinson , \\nPassport Number  780055578,  residing at 1 Rabin st, Tel Aviv, Israel, Email: jackrobinson @gmail.com \\n(\"Advisor \"). \\n \\nWhereas , Advisor  has expertise and/or knowledge and/or relationships , which are relevant to the \\nCompany’s business and the Company has asked Advisor  to provide it with certain Advisory \\nservices, as described in this Agreement ; and  \\nWhereas ,  Advisor  has agreed to provide the Company with such services, subject to the terms s et forth \\nin this Agreement.  \\n \\nNOW THEREFORE THE PARTIES AGREE AS FOLLOWS:  \\n \\n1. Services:    \\n1.1 Advisor  shall provide to the Company, as an independent contractor, software development', metadata={'source': 'data/Robinson-Advisory.pdf', 'page': 0}),\n",
       " Document(page_content='in this Agreement.  \\n \\nNOW THEREFORE THE PARTIES AGREE AS FOLLOWS:  \\n \\n1. Services:    \\n1.1 Advisor  shall provide to the Company, as an independent contractor, software development  \\nservices,  and / or any other services as agreed by the parties from time to time  (the “ Services ”). \\nAdvisor  shall not appoint any sub -agents or delegates in connection with performance of the  \\nServices, nor assign any of his  obligations or rights hereunder without obtaining the prior written \\nconsent of the Company.  \\nWithout derogating fr om the foregoing,  the Advisor shall not be required to provide the Services \\nfor a period of eighteen (18) days in each 12 -month period.  \\n1.2 In performing the Services, Advisor shall devote his time, know -how, expertise, talent, experience  \\nand best efforts and attention to the provision of the Services, as shall be reasonably required by \\nthe Company . Advisor  shall render the Services in a diligent manner and at a high professional', metadata={'source': 'data/Robinson-Advisory.pdf', 'page': 0}),\n",
       " Document(page_content=\"and best efforts and attention to the provision of the Services, as shall be reasonably required by \\nthe Company . Advisor  shall render the Services in a diligent manner and at a high professional \\nstandard  for the benefit of the Company and shall perform and dis charge well and faithfully, with \\ndevotion, honesty and fidelity, his obligations hereunder.  \\n1.3 Advisor  further agree s and undertake s to (i) comply with all the Company's policies, procedures \\nand objectives, as in effect from time to time; (ii) adhere to any applicable law or provision, \\npertaining to his services; (iii) not take any action with the intention that the same will cause \\nmaterial damage to the good name of the Company ; (iv) keep the contents of this Agreement \\nconfidential and not to disclose the existence or contents of this Agreement to any third party \\nwithout the prior written consent of the Company .\", metadata={'source': 'data/Robinson-Advisory.pdf', 'page': 0}),\n",
       " Document(page_content='confidential and not to disclose the existence or contents of this Agreement to any third party \\nwithout the prior written consent of the Company . \\n \\n2. Time Tracking:  Advisor  shall  provide the Company with a written report , in a format acceptable by \\nthe Company,  setting forth the number of hours in which he provided the Services , on a daily basis, as \\nwell as an aggregated monthly report at the last day of each calendar month.  \\n3. No Con flicts: Advisor  represents that there is no contractual or other legal restr iction preventing or \\nlimiting him/her  from entering into this Ag reement or performing any of his/her  obligations hereunder.  \\nAdvisor  shall immediately and without delay inform the C ompa ny of any affairs and/or matters that \\nmight constitute a conflict of interest with his/her services  to Company and/or the interests of the \\nCompany.  Advisor  agrees to indemnify, defend  and hold harmless the Company and its directors,', metadata={'source': 'data/Robinson-Advisory.pdf', 'page': 0}),\n",
       " Document(page_content=\"Company.  Advisor  agrees to indemnify, defend  and hold harmless the Company and its directors, \\nofficers and employees against all claims, liabilities, and costs, including reasonable attorneys' fees in \\nconnection with any breach by Advisor, of any obligations pursuant to a prior or existing engagemen t \\nwith any other third party, including without limitation other employers or clients.\", metadata={'source': 'data/Robinson-Advisory.pdf', 'page': 0})]"
      ]
     },
     "execution_count": 9,
     "metadata": {},
     "output_type": "execute_result"
    }
   ],
   "source": [
    "from langchain.text_splitter import RecursiveCharacterTextSplitter\n",
    "text_splitter = RecursiveCharacterTextSplitter(chunk_size = 1000, chunk_overlap = 200)\n",
    "documents = text_splitter.split_documents(docs)\n",
    "documents[:5]"
   ]
  },
  {
   "cell_type": "code",
   "execution_count": 22,
   "metadata": {},
   "outputs": [],
   "source": [
    "import os\n",
    "from dotenv import load_dotenv\n",
    "\n",
    "load_dotenv()\n",
    "\n",
    "openai_api_key = os.getenv('OPENAI_KEY')\n",
    "## vector embeddings and vector store\n",
    "from langchain_community.embeddings import OpenAIEmbeddings\n",
    "from langchain_community.vectorstores import Chroma\n",
    "\n",
    "db = Chroma.from_documents(documents[:20], OpenAIEmbeddings(openai_api_key=openai_api_key))"
   ]
  },
  {
   "cell_type": "code",
   "execution_count": 26,
   "metadata": {},
   "outputs": [
    {
     "data": {
      "text/plain": [
       "[Document(page_content='Agreement may be modified only by a written amendment executed by both parties. This Agreement \\nmay not be assigned, sold, delegated or transferred in any manner by Advisor  for any reason \\nwhatsoever.  The Company may assign the Agreement to a successor of all o r substantially all of its \\nassets or business, provided the assignee  has assumed the Company’s obligations under this Agreement .   \\n \\n10. Governing Law and Jurisdiction :  This Agreement  shall be governed by the laws of the State of \\nIsrael, without giving effect to the rules respecting conflicts of laws . The parties consent to the exclusive \\njurisdiction and venue of Tel Aviv courts for any lawsuit filed arising from or relating to this \\nAgreement.    \\n \\n11. Notices : Notices under this Agreement shall be delivered to the party’s email address as follows: \\nCompany: info@cloudcorp.com , Advisor:  jackrobinson@gmail.com , or in an y the other means with a \\nproof of acceptance by the other party.', metadata={'page': 2, 'source': 'data/Robinson-Advisory.pdf'}),\n",
       " Document(page_content='Company: info@cloudcorp.com , Advisor:  jackrobinson@gmail.com , or in an y the other means with a \\nproof of acceptance by the other party.  \\n \\nIN WITNESS WHEREOF the parties have executed this Agreement as of the date first above written.  \\n \\n \\n \\nCloud Investments Ltd.    Advisor   \\n \\nBy: ________________________   By:________________________  \\nName:  Silvan Joseph     Name:  Jack Robinson    \\nTitle:  CEO', metadata={'page': 2, 'source': 'data/Robinson-Advisory.pdf'}),\n",
       " Document(page_content='- 3- \\n \\nAdvisor statutory rights and benefits as employee of the Company throughout the Term. Advisor  further \\nconsents that the Company may offset any amounts due to him  under this Section from any amounts \\npayable to Advisor  under this Agreement.  Advisor  shall indemnify the Company for any l oss or \\nexpenses incurred by the Company  if it were determined that an alleged employer/employee \\nrelationship existed between the Advisor and the Company.   \\n \\n9. Entire Agreement; No Waiver or Assignment : This Agreement together with the Exhibits, which are \\nattached hereto and incorporated herein, set forth the entire Agreement between the parties and shall \\nsupersede all previous communications and agreements between the parties, either oral or written.  This \\nAgreement may be modified only by a written amendment executed by both parties. This Agreement \\nmay not be assigned, sold, delegated or transferred in any manner by Advisor  for any reason', metadata={'page': 2, 'source': 'data/Robinson-Advisory.pdf'}),\n",
       " Document(page_content='- 4- \\n \\nConfidentiality, None Compete and IP Ownership Undertaking  \\nAppendix A to Advisory Service Agreement  as of June  15th, 2023  \\n \\nTHIS CONFIDENTIALITY UNDERTAKING (“Undertaking ”) is entered into as of June 15th, 2023 (“ Effective Date ”), by Mr. Jack Robinson,  \\nPassport Number 780055578 , residing at 1 Rabin st , Tel Aviv, Israel, Email: jackrobinson @gmail.com , (“Advisor ”), towards Cloud  Investments \\nLtd (“ Company ”), as follows:  \\n1. Definitions:  (a) Company’s Business:  development of an AI -based contract assistant. (b) Services:  Software development services and/or \\nany other services  provided by the Advisor to the Company. (c) Work Product:  Any product of the Services, tangible and/or intangible, \\nincluding any inventions, discoveries and/or other intellectual property. (d) Confidential Information:  any information disclosed by the', metadata={'page': 3, 'source': 'data/Robinson-Advisory.pdf'})]"
      ]
     },
     "execution_count": 26,
     "metadata": {},
     "output_type": "execute_result"
    }
   ],
   "source": [
    "## vector database\n",
    "\n",
    "query = \"Who are the parties to the Agreement and what are their defined names?\"\n",
    "result = db.similarity_search(query)\n",
    "result"
   ]
  },
  {
   "cell_type": "code",
   "execution_count": null,
   "metadata": {},
   "outputs": [],
   "source": []
  }
 ],
 "metadata": {
  "kernelspec": {
   "display_name": "Python 3",
   "language": "python",
   "name": "python3"
  },
  "language_info": {
   "codemirror_mode": {
    "name": "ipython",
    "version": 3
   },
   "file_extension": ".py",
   "mimetype": "text/x-python",
   "name": "python",
   "nbconvert_exporter": "python",
   "pygments_lexer": "ipython3",
   "version": "3.8.10"
  }
 },
 "nbformat": 4,
 "nbformat_minor": 2
}
